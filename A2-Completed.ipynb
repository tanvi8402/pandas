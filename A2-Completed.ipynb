{
 "cells": [
  {
   "cell_type": "markdown",
   "metadata": {},
   "source": [
    "- First, please, create a copy of this notebook to work on\n",
    "- Read the question carefully and understand the expectation\n",
    "- Look at the answer and write the syntax accordingly"
   ]
  },
  {
   "cell_type": "markdown",
   "metadata": {},
   "source": [
    "1.Write a program which will find all such numbers which are divisible by 7 but are not a multiple of 5, between 2000 and 3200 (both included). Put all tohse numbers in a list"
   ]
  },
  {
   "cell_type": "code",
   "execution_count": 30,
   "metadata": {},
   "outputs": [
    {
     "name": "stdout",
     "output_type": "stream",
     "text": [
      "[2002, 2009, 2016, 2023, 2037, 2044, 2051, 2058, 2072, 2079, 2086, 2093, 2107, 2114, 2121, 2128, 2142, 2149, 2156, 2163, 2177, 2184, 2191, 2198, 2212, 2219, 2226, 2233, 2247, 2254, 2261, 2268, 2282, 2289, 2296, 2303, 2317, 2324, 2331, 2338, 2352, 2359, 2366, 2373, 2387, 2394, 2401, 2408, 2422, 2429, 2436, 2443, 2457, 2464, 2471, 2478, 2492, 2499, 2506, 2513, 2527, 2534, 2541, 2548, 2562, 2569, 2576, 2583, 2597, 2604, 2611, 2618, 2632, 2639, 2646, 2653, 2667, 2674, 2681, 2688, 2702, 2709, 2716, 2723, 2737, 2744, 2751, 2758, 2772, 2779, 2786, 2793, 2807, 2814, 2821, 2828, 2842, 2849, 2856, 2863, 2877, 2884, 2891, 2898, 2912, 2919, 2926, 2933, 2947, 2954, 2961, 2968, 2982, 2989, 2996, 3003, 3017, 3024, 3031, 3038, 3052, 3059, 3066, 3073, 3087, 3094, 3101, 3108, 3122, 3129, 3136, 3143, 3157, 3164, 3171, 3178, 3192, 3199]\n"
     ]
    }
   ],
   "source": [
    "A=[]                             \n",
    "for i in range(2000, 3201):      \n",
    "    if (i%7==0) & (i%5!=0):       \n",
    "        A.append(i)\n",
    "print(A)"
   ]
  },
  {
   "cell_type": "markdown",
   "metadata": {},
   "source": [
    "2.Write the above program in a __list comprehension__"
   ]
  },
  {
   "cell_type": "code",
   "execution_count": 8,
   "metadata": {},
   "outputs": [
    {
     "name": "stdout",
     "output_type": "stream",
     "text": [
      "[2002, 2009, 2016, 2023, 2037, 2044, 2051, 2058, 2072, 2079, 2086, 2093, 2107, 2114, 2121, 2128, 2142, 2149, 2156, 2163, 2177, 2184, 2191, 2198, 2212, 2219, 2226, 2233, 2247, 2254, 2261, 2268, 2282, 2289, 2296, 2303, 2317, 2324, 2331, 2338, 2352, 2359, 2366, 2373, 2387, 2394, 2401, 2408, 2422, 2429, 2436, 2443, 2457, 2464, 2471, 2478, 2492, 2499, 2506, 2513, 2527, 2534, 2541, 2548, 2562, 2569, 2576, 2583, 2597, 2604, 2611, 2618, 2632, 2639, 2646, 2653, 2667, 2674, 2681, 2688, 2702, 2709, 2716, 2723, 2737, 2744, 2751, 2758, 2772, 2779, 2786, 2793, 2807, 2814, 2821, 2828, 2842, 2849, 2856, 2863, 2877, 2884, 2891, 2898, 2912, 2919, 2926, 2933, 2947, 2954, 2961, 2968, 2982, 2989, 2996, 3003, 3017, 3024, 3031, 3038, 3052, 3059, 3066, 3073, 3087, 3094, 3101, 3108, 3122, 3129, 3136, 3143, 3157, 3164, 3171, 3178, 3192, 3199]\n"
     ]
    }
   ],
   "source": [
    "print([i for i in range(2000,3201) if (i%7==0) & (i%5!=0)])                  "
   ]
  },
  {
   "cell_type": "markdown",
   "metadata": {},
   "source": [
    "3.Take a positive integer number input and finds it factorial. E.g. 5!=120"
   ]
  },
  {
   "cell_type": "code",
   "execution_count": 9,
   "metadata": {},
   "outputs": [
    {
     "name": "stdout",
     "output_type": "stream",
     "text": [
      "Enter number to find factorial:5\n",
      "Factorial is 120\n"
     ]
    }
   ],
   "source": [
    "number=int(input(\"Enter number to find factorial:\"))        \n",
    "fac=1                                                       \n",
    "for i in range(1,number+1):                                 \n",
    "    fac=fac*i                                               \n",
    "print(\"Factorial is\",fac)\n"
   ]
  },
  {
   "cell_type": "markdown",
   "metadata": {},
   "source": [
    "4.Modify the above factorial program in following way-  \n",
    "-if negative integer is given as an input, it prints 'No way! enter non-negative number'  \n",
    "-if `0` is given, it prints '0 factorial is 1'  \n",
    "-Else it calculates the integer as computed in above program  \n",
    "-test the code for a negative integer, 0, and a positive interger"
   ]
  },
  {
   "cell_type": "code",
   "execution_count": 55,
   "metadata": {},
   "outputs": [
    {
     "name": "stdout",
     "output_type": "stream",
     "text": [
      "Hey, Enter number:-10\n",
      "No way!, Enter a non-negative number\n"
     ]
    }
   ],
   "source": [
    "# Checking for a negative number\n",
    "number=int(input(\"Hey, Enter number:\"))                     \n",
    "if number<0:                                                 \n",
    "    print(\"No way!, Enter a non-negative number\")          \n",
    "elif number==0:                                              \n",
    "    print(\"0 factorial is 1\")\n",
    "else:                                                        \n",
    "    fac=1                                                    \n",
    "for i in range(1,number+1):\n",
    "    fac=fac*i\n",
    "print(\"Factorial is\",fac)                                   "
   ]
  },
  {
   "cell_type": "code",
   "execution_count": 1,
   "metadata": {},
   "outputs": [
    {
     "name": "stdout",
     "output_type": "stream",
     "text": [
      "Hey, Enter number:0\n",
      "0 factorial is 1\n"
     ]
    }
   ],
   "source": [
    "# checking for 0!\n",
    "number=int(input(\"Hey, Enter number:\"))                      \n",
    "if number<0:                                                 \n",
    "    print(\"No way!, Enter a non-negative number\")\n",
    "elif number==0:                                              \n",
    "    print(\"0 factorial is 1\")\n",
    "else:                                                        \n",
    "    fac=1\n",
    "for i in range(1,number+1):\n",
    "    fac=fac*i\n",
    "print(\"Factorial is\",fac)                                    "
   ]
  },
  {
   "cell_type": "code",
   "execution_count": 10,
   "metadata": {},
   "outputs": [
    {
     "name": "stdout",
     "output_type": "stream",
     "text": [
      "Hey, Enter number:7\n",
      "Factorial is 5040\n"
     ]
    }
   ],
   "source": [
    "# checking for a non-negative number\n",
    "number=int(input(\"Hey, Enter number:\"))                         \n",
    "if number<0:                                                    \n",
    "    print(\"No way!, Enter a non-negative number\")\n",
    "elif number==0:                                                \n",
    "    print(\"0 factorial is 1\")\n",
    "else:                                                           \n",
    "    fac=1\n",
    "for i in range(1,number+1):\n",
    "    fac=fac*i\n",
    "print(\"Factorial is\",fac)                                        \n",
    "     "
   ]
  },
  {
   "cell_type": "markdown",
   "metadata": {},
   "source": [
    "5.Modify the above factorial program at Q4 in following way-  \n",
    "-The program should keep asking for an integer input until a non-negative integer is provided  \n",
    "-Once the non-negative number is input, it computes the factorial  \n",
    "-Test the code"
   ]
  },
  {
   "cell_type": "code",
   "execution_count": 11,
   "metadata": {},
   "outputs": [
    {
     "name": "stdout",
     "output_type": "stream",
     "text": [
      "Hey, Enter number:-20\n",
      "No way, Enter a non-negative number, pls : -10\n",
      "No way, Enter a non-negative number, pls : -5\n",
      "No way, Enter a non-negative number, pls : 5\n",
      "Factorial is 120\n"
     ]
    }
   ],
   "source": [
    "number=int(input(\"Hey, Enter number:\"))                                 \n",
    "while(number<0):                                                        \n",
    "    number=int(input(\"No way, Enter a non-negative number, pls : \"))\n",
    "if number>0:                                                            \n",
    "    fac=1\n",
    "for i in range(1,number+1):\n",
    "    fac=fac*i                                \n",
    "print(\"Factorial is\",fac)\n",
    "    "
   ]
  },
  {
   "cell_type": "markdown",
   "metadata": {},
   "source": [
    "6.Suppose you're in ticket booking service.  \n",
    "-Write program which first take user input `yes` or `no`  \n",
    "-If `yes`, then it should ask for how many passengers  \n",
    "-record `name`,`age` and `sex` of those many passangers  \n",
    "-Remember to break the flow once all the booking is done  "
   ]
  },
  {
   "cell_type": "code",
   "execution_count": 1,
   "metadata": {},
   "outputs": [
    {
     "name": "stdout",
     "output_type": "stream",
     "text": [
      "Booking YES or NO:YES\n",
      "How many people?:3\n",
      "Name:Tanvi\n",
      "Age:21\n",
      "Male or Female:Female\n",
      "====================================================\n",
      "Passenger:(Name,Age,Gender)\n",
      "Passenger 1 ( Tanvi 21 Female )\n",
      "=====================================================\n",
      "Name:Sourabh\n",
      "Age:18\n",
      "Male or Female:Male\n",
      "====================================================\n",
      "Passenger:(Name,Age,Gender)\n",
      "Passenger 2 ( Sourabh 18 Male )\n",
      "=====================================================\n",
      "Name:Paras\n",
      "Age:22\n",
      "Male or Female:Male\n",
      "====================================================\n",
      "Passenger:(Name,Age,Gender)\n",
      "Passenger 3 ( Paras 22 Male )\n",
      "=====================================================\n"
     ]
    }
   ],
   "source": [
    "class Passenger:                                                             \n",
    "    def __init__(self,name,age,sex):                                         \n",
    "        self.name=name                                                       \n",
    "        self.age=age\n",
    "        self.sex=sex                                                           \n",
    "A=str(input('Booking YES or NO:'))                                          \n",
    "if A==\"YES\":\n",
    "    n=int(input(\"How many people?:\"))\n",
    "    for i in range(n):\n",
    "        name=input(\"Name:\")\n",
    "        age=input(\"Age:\")\n",
    "        sex=input(\"Male or Female:\")\n",
    "        x=Passenger(name,age,sex)\n",
    "        print(\"====================================================\")\n",
    "        print(\"Passenger:(Name,Age,Gender)\")\n",
    "        print(\"Passenger\",i+1, \"(\",x.name,x.age,x.sex,\")\")\n",
    "        print(\"=====================================================\")\n",
    "else:\n",
    "    print(\"No Booking\")\n",
    "    "
   ]
  },
  {
   "cell_type": "markdown",
   "metadata": {},
   "source": [
    "7.Write a `for` loop for finding all the squared numbers under 500. Put those numbers in a list"
   ]
  },
  {
   "cell_type": "code",
   "execution_count": 22,
   "metadata": {},
   "outputs": [
    {
     "name": "stdout",
     "output_type": "stream",
     "text": [
      "[1, 4, 9, 16, 25, 36, 49, 64, 81, 100, 121, 144, 169, 196, 225, 256, 289, 324, 361, 400, 441, 484]\n"
     ]
    }
   ],
   "source": [
    "l=[]                                                                 \n",
    "for w in range(1,500):                                               \n",
    "    r=w**0.5                                                         \n",
    "    if r%1==0:\n",
    "        l.append(w)\n",
    "print(l)"
   ]
  },
  {
   "cell_type": "markdown",
   "metadata": {},
   "source": [
    "8.Print the above squared numbers under 500 using `while` loop"
   ]
  },
  {
   "cell_type": "code",
   "execution_count": 2,
   "metadata": {},
   "outputs": [
    {
     "name": "stdout",
     "output_type": "stream",
     "text": [
      "1\n",
      "4\n",
      "9\n",
      "16\n",
      "25\n",
      "36\n",
      "49\n",
      "64\n",
      "81\n",
      "100\n",
      "121\n",
      "144\n",
      "169\n",
      "196\n",
      "225\n",
      "256\n",
      "289\n",
      "324\n",
      "361\n",
      "400\n",
      "441\n",
      "484\n"
     ]
    }
   ],
   "source": [
    "w=1                                                             \n",
    "while (w<500):                                                  \n",
    "    r=w**0.5\n",
    "    if r%1==0:\n",
    "        print(w)\n",
    "    w+=1                                                        "
   ]
  },
  {
   "cell_type": "markdown",
   "metadata": {},
   "source": [
    "9.With a given integral number n, write a program to generate a dictionary that contains (i, i*i) such that is an integral number between 1 and n (both included). and then the program should print the dictionary.  \n",
    "-Suppose the following input is supplied to the program: 8  \n",
    "-Then, the output should be: {1: 1, 2: 4, 3: 9, 4: 16, 5: 25, 6: 36, 7: 49, 8: 64}  \n",
    "-First create a blank dictionary using `dict()` function"
   ]
  },
  {
   "cell_type": "code",
   "execution_count": 18,
   "metadata": {},
   "outputs": [
    {
     "name": "stdout",
     "output_type": "stream",
     "text": [
      "Enter a number:8\n",
      "{1: 1, 2: 4, 3: 9, 4: 16, 5: 25, 6: 36, 7: 49, 8: 64}\n"
     ]
    }
   ],
   "source": [
    "dict={}                                                        \n",
    "n=int(input(\"Enter a number:\"))                                \n",
    "for i in range(1,n+1):\n",
    "    dict[i]=i**2\n",
    "print(dict)\n",
    "\n"
   ]
  },
  {
   "cell_type": "markdown",
   "metadata": {},
   "source": [
    "Write a program which creates a tuple of Pythogorus triplets within a certain number (say, 25). E.g. (3,4,5), (6,8,10), etc..."
   ]
  },
  {
   "cell_type": "code",
   "execution_count": 7,
   "metadata": {},
   "outputs": [
    {
     "name": "stdout",
     "output_type": "stream",
     "text": [
      "Max input25\n",
      "3 4 5\n",
      "4 3 5\n",
      "5 12 13\n",
      "6 8 10\n",
      "7 24 25\n",
      "8 6 10\n",
      "8 15 17\n",
      "9 12 15\n",
      "10 24 26\n",
      "12 5 13\n",
      "12 9 15\n",
      "12 16 20\n",
      "15 8 17\n",
      "15 20 25\n",
      "16 12 20\n",
      "18 24 30\n",
      "20 15 25\n",
      "20 21 29\n",
      "21 20 29\n",
      "24 7 25\n",
      "24 10 26\n",
      "24 18 30\n"
     ]
    }
   ],
   "source": [
    "n=int(input(\"Max input\"))                                            \n",
    "for a in range(1,n+1):                                               \n",
    "    for b in range(1,n+1):                                          \n",
    "        c_sq=a**2+b**2\n",
    "        c=c_sq**0.5\n",
    "        if c%1==0:\n",
    "            print(a,b,int(c))"
   ]
  },
  {
   "cell_type": "markdown",
   "metadata": {},
   "source": [
    "___Thank You for your effort___"
   ]
  }
 ],
 "metadata": {
  "kernelspec": {
   "display_name": "Python 3",
   "language": "python",
   "name": "python3"
  },
  "language_info": {
   "codemirror_mode": {
    "name": "ipython",
    "version": 3
   },
   "file_extension": ".py",
   "mimetype": "text/x-python",
   "name": "python",
   "nbconvert_exporter": "python",
   "pygments_lexer": "ipython3",
   "version": "3.7.4"
  }
 },
 "nbformat": 4,
 "nbformat_minor": 1
}
